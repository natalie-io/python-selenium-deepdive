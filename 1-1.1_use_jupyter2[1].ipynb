<!DOCTYPE html>
<html ng-app="notebooks">
<head>
    <meta charset="utf-8" />
    <meta name="google-site-verification" content="KbU3iN0xNAize9fZKStaAxmv3zSQKNGPNA8wBibCrZk" />
    <meta name="google-site-verification" content="odGuUtT2NIcDQrKKLShBxd6RYuqFnizdyWffrkHlPzQ" />
    <meta name="msvalidate.01" content="1FB238D982DEC598F9B856044DEA2D2B" /> <!-- bing web master tools -->
    <meta name="viewport" content="width=device-width, initial-scale=1.0">
        <meta name="description" content="Provides free online access to Jupyter notebooks running in the cloud on Microsoft Azure.">
    <meta name="keywords" content="IPython Microsoft Azure Jupyter notebooks online Python machine learning scientific computing technical computing workbook share sharing collaboration R F# FSharp anaconda pandas matplotlib jupyterlab ubuntu tutorial plot markdown">
    <title ng-bind="$root.page_title">Microsoft Azure Notebooks - Online Jupyter Notebooks</title>
    <link href="/Content/Site.less" rel="stylesheet"/>

    <link href="/Content/bootstrap/ng-tags-input.min.less" rel="stylesheet"/>

    <link href="/Content/bootstrap/ng-tags-input.bootstrap.min.less" rel="stylesheet"/>


    <script src="/Content/angular/1.5.8/angular.min.js"></script>
    <script src="/Content/angular/1.5.8/angular-route.min.js"></script>
    <script src="/Content/angular/1.5.8/angular-sanitize.min.js"></script>
    <script src="/Content/angular/1.5.8/angular-cookies.min.js"></script>
    <script src="/Content/angular/1.5.8/angular-messages.min.js"></script>

    <script src="/bundles/jquery?v=cRpZpqaBtXGD5K6oveCrw6zWYGnzQmjc9FSFuRkN9OM1"></script>

    <script src="/Scripts/slick.min.js"></script>

    <script src="/Scripts/typed.min.js"></script>


    <link rel="stylesheet" type="text/css" href="/Content/jupyter/5.3.1/components/codemirror/lib/codemirror.css">

    <script src="/bundles/angular_site?v=AvDX8JmaLZQ75fHK_gTWLtyoQCLns16hO_hloPZx9KY1"></script>

    <script src="/bundles/angular-html?v=eLT4LGjfHo_Incy5dOEc4XK0vY24l11P3XNxJBt4Cgk1"></script>

    <script src="/Content/ui-bootstrap-tpls-2.1.4.min.js"></script>

    <script src="/Content/ng-tags-input.min.js"></script>

    <script src="/Scripts/clipboard.min.js"></script>


    <base href="/">
    <noscript></noscript>

    <!-- Global site tag (gtag.js) - Google Analytics -->
    <script async src="https://www.googletagmanager.com/gtag/js?id=UA-47764989-10"></script>
    <script>
        window.dataLayer = window.dataLayer || [];
        function gtag() { dataLayer.push(arguments); }
        gtag('js', new Date());

        gtag('config', 'UA-47764989-10');
    </script>
</head>
<body ng-controller="SiteController as site" ng-class="{'body-survey-notification' : site.getDisplaySurvey()}" >
    
    <input name="__RequestVerificationToken" type="hidden" value="gL6v5MbMF3zp7cVb9GNu-YaRjm1vBUA6Fr0CoHzuFTVkk_BqMhOpl4yD-7HPgyfwcSK24pfZ4cZIGkZjeHTMs2GQr6dQZb2OIZoB7Oe7Psw1" />

    <!-- BEGIN HEADER -->
<div class="header navbar-fixed-top">
    <div class="container brand-title">
        <a href="/#" class="logo" ms.pgarea="header" ms.cmpgrp="header" ms.cmptyp="link" ms.cmpnm="" ms.title="Microsoft Azure" ms.interactiontype="1">
            <span class="logo-text">Microsoft Azure</span>
            <p class="notebooks-text">Notebooks</p>
        </a>
        <a href="/help/preview" class="btn btn-preview">Preview</a>

        <div class="navbar-right desktop-navbar">
            <div class="account-nav">
                <div ng-if="site.getSignedIn()">
                    <div uib-dropdown>
                        <div class="ng-cloak">
                            <a href="#" id="user-dropdown" uib-dropdown-toggle>
                                {{site.getCurUserDisplayName()}}
                                <span class="glyphicon glyphicon-chevron-down account-chevron"></span>
                            </a>
                        </div>
                        <ul class="dropdown-menu account-menu" uib-dropdown-menu aria-labelledby="user-dropdown">
                            <li><a href="{{site.getUserHomeLink()}}#" title="Main Menu Profile"><span class="notebook-icon-profile account-menu-icon"></span>Profile</a><hr /></li>
                            <li><a href="/account/settings#" title="Main Menu Settings"><span class="glyphicon glyphicon-cog account-menu-icon"></span>Settings</a></li>
                            <li ng-if="site.getSignedIn()"><a href="/account/signout" ng-click="site.signout()" title="Main Menu Sign Out"><span class="glyphicon glyphicon-log-out account-menu-icon"></span>Sign out</a></li>
                        </ul>
                    </div>
                </div>
                <div ng-if="!site.getSignedIn()">
                    <a href="/account/signin#" ng-click="site.signin()" title="Main Menu Sign In">Sign In</a>
                </div>
            </div>
            <div ng-if="site.UserService.user.generatedId" ng-cloak>
                <a href="" ng-click="site.updateUserId()" class="configure-user-id">Configure User ID</a>
            </div>
        </div>

        <span class="mobile-navbar">
            <button type="button" class="navbar-toggle" data-toggle="collapse" data-target=".navbar-collapse" title="Main Menu">
                <span class="icon-bar"></span>
                <span class="icon-bar"></span>
                <span class="icon-bar"></span>
            </button>
        </span>
    </div>
    <div class="mobile-navbar">
        <div class="navbar-collapse collapse">
            <ul class="nav navbar-nav nav-fade">
                <li><a href="/home/libraries#" class="nav-item" ng-href="{{site.getUserHomeLink()}}/libraries#" title="Main Menu Libraries">Libraries</a></li>
                <li><a href="/new" class="nav-item" title="Main Menu What's New">What's New</a></li>
                <li><a href="/status" ng-href="/status" class="nav-item" title="Site Status and History">Status</a></li>
                <li><a href="/help" ng-href="{{site.contextHelpLink}}" class="nav-item" title="Help and Documentation">Help</a></li>

                <li ng-if="site.getSignedIn()"><a href="{{site.getUserHomeLink()}}#" title="Main Menu Profile">Profile</a></li>
                <li ng-if="site.getSignedIn()"><a href="/account/settings#" title="Main Menu Settings">Settings</a></li>
                <li ng-if="site.getSignedIn()"><a href="/account/signout" ng-click="site.signout()" title="Main Menu Sign Out">Sign out</a></li>

                <li ng-if="!site.getSignedIn()"><a href="/account/signin#" ng-click="site.signin()" title="Main Menu Sign In">Sign In</a></li>

            </ul>
        </div>
    </div>
    <div class="navbar navbar-inverse cortana-top-nav desktop-navbar">
        <div class="container">
            <ul class="nav navbar-nav nav-fade">
                <li><a href="/home/libraries#" class="nav-item" ng-href="{{site.getUserHomeLink()}}/libraries#" title="Main Menu Libraries">Libraries</a></li>
                <li><a href="/new#" class="nav-item" title="Main Menu What's New">What's New</a></li>
                <li><a href="/status#" class="nav-item" title="Site Status and History">Status</a></li>
                <li><a href="/help#" ng-href="{{site.contextHelpLink}}" class="nav-item" title="Help and Documentation">Help</a></li>
            </ul>
        </div>
    </div>
    <div ng-cloak ng-if="site.getDisplaySurvey()" class="notification">
        <div class="container">
            <span class="message">Would you tell us how likely you are to recommend Azure Notebooks to a friend or colleague?</span>
            <span class="buttons">
                <a class="btn" ng-click="site.surveyTaken()" href="https://aka.ms/azure-notebooks-survey" target="_blank">Yes</a>
                <button type="button" class="btn" ng-click="site.surveyDontShowAgain()">Don't Show Again</button>
            </span>
            <button type="button" class="close" aria-label="Close" ng-click="site.surveyDismissed()" title="Close" ng-if="site.shouldDisplaySurveyDismiss"><span aria-hidden="true">×</span></button>
        </div>
    </div>
</div>

<!-- END HEADER -->


    <!-- BEGIN BODY -->

    
<div ng-view>
</div>



    <!-- END BODY -->

    <!-- BEGIN FOOTER -->
<footer class="footer">
    <div class="container">
        <ul>
            <li>
                <a href="https://github.com/Microsoft/AzureNotebooks/issues" ms.title="Contact us" class="ctl_footerNavLink" data-bi-name="Footer_ContactUs" data-bi-slot="1" ms.ea_action="ntd">
                    Contact us
                </a>
            </li>
            <li>
                <a href="/faq" ms.title="FAQ" class="ctl_footerNavLink" data-bi-name="Footer_FaqSupport" data-bi-slot="1" ms.ea_action="ntd">
                    FAQ
                </a>
            </li>
            <li>
                <a href="https://go.microsoft.com/fwlink/?LinkId=248681" ms.title="Privacy and cookies " class="ctl_footerNavLink" data-bi-name="Footer_PrivacyandCookies" data-bi-slot="2" ms.ea_action="ntd">
                    Privacy and cookies
                </a>
            </li>
            <li>
                <a href="https://go.microsoft.com/fwlink/?LinkID=530144" ms.title="Terms of use" class="ctl_footerNavLink" data-bi-name="Footer_TermsOfUse" data-bi-slot="3" ms.ea_action="ntd">
                    Terms of use
                </a>
            </li>
            <li>
                <a href="https://www.microsoft.com/en-us/legal/intellectualproperty/trademarks/en-us.aspx" ms.title="Trademarks" class="ctl_footerNavLink" data-bi-name="Footer_Trademarks" data-bi-slot="4" ms.ea_action="ntd">
                    Trademarks
                </a>
            </li>

            <li class="copyright">
                © 2017 Microsoft
            </li>
        </ul>
    </div>
</footer>

<!-- END FOOTER -->


    <script src="/bundles/bootstrap?v=clcVu4Lcmou_xRuHSx7pW5pLei8nr1SWy7AqzsI37ps1"></script>

</body>
</html>
